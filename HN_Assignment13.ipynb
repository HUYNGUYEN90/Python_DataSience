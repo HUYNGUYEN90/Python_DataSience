{
  "nbformat": 4,
  "nbformat_minor": 0,
  "metadata": {
    "kernelspec": {
      "display_name": "Python 3",
      "language": "python",
      "name": "python3"
    },
    "language_info": {
      "codemirror_mode": {
        "name": "ipython",
        "version": 2
      },
      "file_extension": ".py",
      "mimetype": "text/x-python",
      "name": "python",
      "nbconvert_exporter": "python",
      "pygments_lexer": "ipython2",
      "version": "2.7.6"
    },
    "colab": {
      "name": "HN_Assignment13.ipynb",
      "provenance": [],
      "collapsed_sections": [],
      "machine_shape": "hm"
    },
    "accelerator": "TPU"
  },
  "cells": [
    {
      "cell_type": "markdown",
      "metadata": {
        "collapsed": false,
        "id": "Mb5P_syqipUv"
      },
      "source": [
        "# <b>CS156 (Introduction to AI), Spring 2021</b>\n",
        "# <u><b>Homework Assignment #13 submission</b></u>\n",
        "\n",
        "### Student Name: HUY NGUYEN\n",
        "### Student ID: 015207465\n",
        "### Email address: huy.l.nguyen@sjsu.edu\n",
        "\n",
        "##  <u>Solution</u>"
      ]
    },
    {
      "cell_type": "code",
      "metadata": {
        "pycharm": {
          "name": "#%%\n"
        },
        "id": "20H6_fttipU5"
      },
      "source": [
        "import numpy as np\n",
        "import pandas as pd\n",
        "import gym\n",
        "from gym import envs"
      ],
      "execution_count": 1,
      "outputs": []
    },
    {
      "cell_type": "code",
      "metadata": {
        "pycharm": {
          "name": "#%%\n"
        },
        "id": "YcS9vsbDipU6"
      },
      "source": [
        "np.random.seed(42)"
      ],
      "execution_count": 2,
      "outputs": []
    },
    {
      "cell_type": "code",
      "metadata": {
        "pycharm": {
          "name": "#%%\n"
        },
        "id": "QacMKvFoipU7",
        "colab": {
          "base_uri": "https://localhost:8080/"
        },
        "outputId": "f7591199-b82a-4950-829e-2e9f747308d8"
      },
      "source": [
        "env = gym.make('FrozenLake-v0')\n",
        "rew_tot = 0\n",
        "obs = env.reset()\n",
        "env.render()"
      ],
      "execution_count": 3,
      "outputs": [
        {
          "output_type": "stream",
          "text": [
            "\n",
            "\u001b[41mS\u001b[0mFFF\n",
            "FHFH\n",
            "FFFH\n",
            "HFFG\n"
          ],
          "name": "stdout"
        }
      ]
    },
    {
      "cell_type": "code",
      "metadata": {
        "pycharm": {
          "name": "#%%\n"
        },
        "id": "RZ1SB-auipU8",
        "colab": {
          "base_uri": "https://localhost:8080/"
        },
        "outputId": "9af889ee-39b7-4153-bd14-4ae655b63163"
      },
      "source": [
        "env = gym.make('FrozenLake-v0')\n",
        "env.reset()\n",
        "NUM_ACTIONS = env.action_space.n\n",
        "NUM_STATES = env.observation_space.n\n",
        "Q = np.zeros([NUM_STATES, NUM_ACTIONS])  #You could also make this dynamic if you don't know all games states upfront\n",
        "gamma = 0.95\n",
        "alpha = 0.01\n",
        "epsilon = 0.1  #\n",
        "for episode in range(1, 500000):\n",
        "    done = False\n",
        "    obs = env.reset()\n",
        "    while done != True:\n",
        "        if np.random.rand(1) < epsilon:\n",
        "            action = env.action_space.sample()\n",
        "        else:\n",
        "            action = np.argmax(Q[obs])\n",
        "        obs2, rew, done, info = env.step(action)  #take the action\n",
        "        Q[obs, action] += alpha * (\n",
        "                rew + gamma * np.max(Q[obs2]) - Q[obs, action])  #Update Q-matrix using Bellman equation\n",
        "        obs = obs2\n",
        "\n",
        "    if episode % 5000 == 0:\n",
        "        rew_average = 0.\n",
        "        for i in range(100):\n",
        "            obs = env.reset()\n",
        "            done = False\n",
        "            while done != True:\n",
        "                action = np.argmax(Q[obs])\n",
        "                obs, rew, done, info = env.step(action)  #take step using selected action\n",
        "                rew_average += rew\n",
        "        rew_average = rew_average / 100\n",
        "        print('Episode {} average reward: {}'.format(episode, rew_average))\n",
        "\n",
        "        if rew_average > 0.8:\n",
        "            print(\"Frozen lake solved\")\n",
        "            break"
      ],
      "execution_count": 4,
      "outputs": [
        {
          "output_type": "stream",
          "text": [
            "Episode 5000 average reward: 0.0\n",
            "Episode 10000 average reward: 0.18\n",
            "Episode 15000 average reward: 0.46\n",
            "Episode 20000 average reward: 0.69\n",
            "Episode 25000 average reward: 0.63\n",
            "Episode 30000 average reward: 0.75\n",
            "Episode 35000 average reward: 0.58\n",
            "Episode 40000 average reward: 0.72\n",
            "Episode 45000 average reward: 0.75\n",
            "Episode 50000 average reward: 0.74\n",
            "Episode 55000 average reward: 0.67\n",
            "Episode 60000 average reward: 0.79\n",
            "Episode 65000 average reward: 0.72\n",
            "Episode 70000 average reward: 0.78\n",
            "Episode 75000 average reward: 0.78\n",
            "Episode 80000 average reward: 0.72\n",
            "Episode 85000 average reward: 0.68\n",
            "Episode 90000 average reward: 0.65\n",
            "Episode 95000 average reward: 0.68\n",
            "Episode 100000 average reward: 0.73\n",
            "Episode 105000 average reward: 0.77\n",
            "Episode 110000 average reward: 0.64\n",
            "Episode 115000 average reward: 0.73\n",
            "Episode 120000 average reward: 0.71\n",
            "Episode 125000 average reward: 0.7\n",
            "Episode 130000 average reward: 0.83\n",
            "Frozen lake solved\n"
          ],
          "name": "stdout"
        }
      ]
    },
    {
      "cell_type": "code",
      "metadata": {
        "pycharm": {
          "name": "#%%\n"
        },
        "id": "ua1XfwU4ipU9",
        "colab": {
          "base_uri": "https://localhost:8080/"
        },
        "outputId": "30971a09-53ce-4272-b9a9-e770b83e28e8"
      },
      "source": [
        "rew_tot = 0.\n",
        "obs = env.reset()\n",
        "done = False\n",
        "while done != True:\n",
        "    action = np.argmax(Q[obs])\n",
        "    obs, rew, done, info = env.step(action)  #take step using selected action\n",
        "    rew_tot += rew\n",
        "    env.render()\n",
        "\n",
        "print(\"Reward:\", rew_tot)\n"
      ],
      "execution_count": 5,
      "outputs": [
        {
          "output_type": "stream",
          "text": [
            "  (Left)\n",
            "\u001b[41mS\u001b[0mFFF\n",
            "FHFH\n",
            "FFFH\n",
            "HFFG\n",
            "  (Left)\n",
            "SFFF\n",
            "\u001b[41mF\u001b[0mHFH\n",
            "FFFH\n",
            "HFFG\n",
            "  (Left)\n",
            "SFFF\n",
            "FHFH\n",
            "\u001b[41mF\u001b[0mFFH\n",
            "HFFG\n",
            "  (Up)\n",
            "SFFF\n",
            "\u001b[41mF\u001b[0mHFH\n",
            "FFFH\n",
            "HFFG\n",
            "  (Left)\n",
            "SFFF\n",
            "FHFH\n",
            "\u001b[41mF\u001b[0mFFH\n",
            "HFFG\n",
            "  (Up)\n",
            "SFFF\n",
            "FHFH\n",
            "F\u001b[41mF\u001b[0mFH\n",
            "HFFG\n",
            "  (Down)\n",
            "SFFF\n",
            "FHFH\n",
            "\u001b[41mF\u001b[0mFFH\n",
            "HFFG\n",
            "  (Up)\n",
            "SFFF\n",
            "FHFH\n",
            "\u001b[41mF\u001b[0mFFH\n",
            "HFFG\n",
            "  (Up)\n",
            "SFFF\n",
            "\u001b[41mF\u001b[0mHFH\n",
            "FFFH\n",
            "HFFG\n",
            "  (Left)\n",
            "SFFF\n",
            "\u001b[41mF\u001b[0mHFH\n",
            "FFFH\n",
            "HFFG\n",
            "  (Left)\n",
            "SFFF\n",
            "FHFH\n",
            "\u001b[41mF\u001b[0mFFH\n",
            "HFFG\n",
            "  (Up)\n",
            "SFFF\n",
            "\u001b[41mF\u001b[0mHFH\n",
            "FFFH\n",
            "HFFG\n",
            "  (Left)\n",
            "SFFF\n",
            "\u001b[41mF\u001b[0mHFH\n",
            "FFFH\n",
            "HFFG\n",
            "  (Left)\n",
            "SFFF\n",
            "FHFH\n",
            "\u001b[41mF\u001b[0mFFH\n",
            "HFFG\n",
            "  (Up)\n",
            "SFFF\n",
            "\u001b[41mF\u001b[0mHFH\n",
            "FFFH\n",
            "HFFG\n",
            "  (Left)\n",
            "SFFF\n",
            "FHFH\n",
            "\u001b[41mF\u001b[0mFFH\n",
            "HFFG\n",
            "  (Up)\n",
            "SFFF\n",
            "\u001b[41mF\u001b[0mHFH\n",
            "FFFH\n",
            "HFFG\n",
            "  (Left)\n",
            "SFFF\n",
            "\u001b[41mF\u001b[0mHFH\n",
            "FFFH\n",
            "HFFG\n",
            "  (Left)\n",
            "SFFF\n",
            "FHFH\n",
            "\u001b[41mF\u001b[0mFFH\n",
            "HFFG\n",
            "  (Up)\n",
            "SFFF\n",
            "\u001b[41mF\u001b[0mHFH\n",
            "FFFH\n",
            "HFFG\n",
            "  (Left)\n",
            "\u001b[41mS\u001b[0mFFF\n",
            "FHFH\n",
            "FFFH\n",
            "HFFG\n",
            "  (Left)\n",
            "SFFF\n",
            "\u001b[41mF\u001b[0mHFH\n",
            "FFFH\n",
            "HFFG\n",
            "  (Left)\n",
            "SFFF\n",
            "FHFH\n",
            "\u001b[41mF\u001b[0mFFH\n",
            "HFFG\n",
            "  (Up)\n",
            "SFFF\n",
            "FHFH\n",
            "F\u001b[41mF\u001b[0mFH\n",
            "HFFG\n",
            "  (Down)\n",
            "SFFF\n",
            "FHFH\n",
            "\u001b[41mF\u001b[0mFFH\n",
            "HFFG\n",
            "  (Up)\n",
            "SFFF\n",
            "FHFH\n",
            "F\u001b[41mF\u001b[0mFH\n",
            "HFFG\n",
            "  (Down)\n",
            "SFFF\n",
            "FHFH\n",
            "FFFH\n",
            "H\u001b[41mF\u001b[0mFG\n",
            "  (Right)\n",
            "SFFF\n",
            "FHFH\n",
            "FFFH\n",
            "HF\u001b[41mF\u001b[0mG\n",
            "  (Down)\n",
            "SFFF\n",
            "FHFH\n",
            "FFFH\n",
            "H\u001b[41mF\u001b[0mFG\n",
            "  (Right)\n",
            "SFFF\n",
            "FHFH\n",
            "FFFH\n",
            "HF\u001b[41mF\u001b[0mG\n",
            "  (Down)\n",
            "SFFF\n",
            "FHFH\n",
            "FFFH\n",
            "HFF\u001b[41mG\u001b[0m\n",
            "Reward: 1.0\n"
          ],
          "name": "stdout"
        }
      ]
    }
  ]
}